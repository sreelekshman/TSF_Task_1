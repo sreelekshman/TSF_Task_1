{
 "cells": [
  {
   "cell_type": "markdown",
   "id": "e1bed843",
   "metadata": {},
   "source": [
    "## Prediction Using Supervised Machine Learning\n"
   ]
  },
  {
   "cell_type": "markdown",
   "id": "57df2e11",
   "metadata": {},
   "source": [
    "We are given a dataset containing the number of hours studied and marks obtained by a student in exam.\n",
    "We have to use a supervised learning method to create a machine learning model and predict the score that can be obtained if the number of hours studied is given."
   ]
  },
  {
   "cell_type": "markdown",
   "id": "1e750db2",
   "metadata": {},
   "source": [
    "### Author : Sreelekshman S"
   ]
  },
  {
   "cell_type": "markdown",
   "id": "99f38f9b",
   "metadata": {},
   "source": [
    "#### Method Used - Simple Linear Regression"
   ]
  },
  {
   "cell_type": "markdown",
   "id": "16feabce",
   "metadata": {},
   "source": [
    "We will use LinearRegression class of Scikit-Learn for this problem "
   ]
  },
  {
   "cell_type": "code",
   "execution_count": 2,
   "id": "64212420",
   "metadata": {},
   "outputs": [],
   "source": [
    "#Import libraries required\n",
    "import numpy as np\n",
    "import pandas as pd\n",
    "import matplotlib.pyplot as plt  #For plotting the data"
   ]
  },
  {
   "cell_type": "markdown",
   "id": "da374900",
   "metadata": {},
   "source": [
    "First we import the the dataset, which is stored as a csv file."
   ]
  },
  {
   "cell_type": "code",
   "execution_count": 10,
   "id": "1a12d4a1",
   "metadata": {},
   "outputs": [
    {
     "name": "stdout",
     "output_type": "stream",
     "text": [
      "Data imported successfully\n"
     ]
    },
    {
     "data": {
      "text/html": [
       "<div>\n",
       "<style scoped>\n",
       "    .dataframe tbody tr th:only-of-type {\n",
       "        vertical-align: middle;\n",
       "    }\n",
       "\n",
       "    .dataframe tbody tr th {\n",
       "        vertical-align: top;\n",
       "    }\n",
       "\n",
       "    .dataframe thead th {\n",
       "        text-align: right;\n",
       "    }\n",
       "</style>\n",
       "<table border=\"1\" class=\"dataframe\">\n",
       "  <thead>\n",
       "    <tr style=\"text-align: right;\">\n",
       "      <th></th>\n",
       "      <th>Hours</th>\n",
       "      <th>Scores</th>\n",
       "    </tr>\n",
       "  </thead>\n",
       "  <tbody>\n",
       "    <tr>\n",
       "      <th>0</th>\n",
       "      <td>2.5</td>\n",
       "      <td>21</td>\n",
       "    </tr>\n",
       "    <tr>\n",
       "      <th>1</th>\n",
       "      <td>5.1</td>\n",
       "      <td>47</td>\n",
       "    </tr>\n",
       "    <tr>\n",
       "      <th>2</th>\n",
       "      <td>3.2</td>\n",
       "      <td>27</td>\n",
       "    </tr>\n",
       "    <tr>\n",
       "      <th>3</th>\n",
       "      <td>8.5</td>\n",
       "      <td>75</td>\n",
       "    </tr>\n",
       "    <tr>\n",
       "      <th>4</th>\n",
       "      <td>3.5</td>\n",
       "      <td>30</td>\n",
       "    </tr>\n",
       "  </tbody>\n",
       "</table>\n",
       "</div>"
      ],
      "text/plain": [
       "   Hours  Scores\n",
       "0    2.5      21\n",
       "1    5.1      47\n",
       "2    3.2      27\n",
       "3    8.5      75\n",
       "4    3.5      30"
      ]
     },
     "execution_count": 10,
     "metadata": {},
     "output_type": "execute_result"
    }
   ],
   "source": [
    "#Reading the data\n",
    "data=pd.read_csv(\"student_score.csv\")\n",
    "print(\"Data imported successfully\")\n",
    "data.head()"
   ]
  },
  {
   "cell_type": "markdown",
   "id": "838f9728",
   "metadata": {},
   "source": [
    "The given data has only one attribute ('Hours') and a label ('Scores'). So we can plot the data as a 2-D graph for an exploratory data analysis"
   ]
  },
  {
   "cell_type": "code",
   "execution_count": 32,
   "id": "c9eb914e",
   "metadata": {},
   "outputs": [
    {
     "data": {
      "image/png": "[encoded data removed]",
      "text/plain": [
       "<Figure size 640x480 with 1 Axes>"
      ]
     },
     "metadata": {},
     "output_type": "display_data"
    }
   ],
   "source": [
    "data.plot(x=\"Hours\", y=\"Scores\", style=\"x\")\n",
    "plt.title(\"Hours vs Score in Percentage\")\n",
    "plt.xlabel(\"Hours Studied\")\n",
    "plt.ylabel(\"Percentage score\")\n",
    "plt.show()"
   ]
  },
  {
   "cell_type": "markdown",
   "id": "38bd32c0",
   "metadata": {},
   "source": [
    "From the graph we can see that our decision to use simple linear regression was perfect since the data points are distributed almost linearly.\n",
    "Our task for today is to predict the score of a student if he studied for 9.25hrs/day.\n",
    "For predicting the score we need to make a machine learning model."
   ]
  },
  {
   "cell_type": "markdown",
   "id": "2dfd5eff",
   "metadata": {},
   "source": [
    "## Building and Training the Model"
   ]
  },
  {
   "cell_type": "markdown",
   "id": "4fdf36f2",
   "metadata": {},
   "source": [
    "We are going to use the LinearRegression model in Scikit-Learn library to build a model with the given data. Before that we have to split the given dataset into test set and training set. We do that because after building the model we need actual data to test whether the model we build is acccurate or not. training set is used for training the model and test set is used for testing the accuracy of model after building."
   ]
  },
  {
   "cell_type": "markdown",
   "id": "75ebb44e",
   "metadata": {},
   "source": [
    "For splitting the dataset we are using Scikit-Learn's built-in train_test_split() method:"
   ]
  },
  {
   "cell_type": "code",
   "execution_count": 64,
   "id": "59203616",
   "metadata": {},
   "outputs": [
    {
     "name": "stdout",
     "output_type": "stream",
     "text": [
      "Splitting completed\n"
     ]
    }
   ],
   "source": [
    "#importing scikit-learn library\n",
    "from sklearn.model_selection import train_test_split\n",
    "x_train, x_test, y_train, y_test = train_test_split(data[['Hours']],data[['Scores']], test_size=0.2)\n",
    "print(\"Splitting completed\")"
   ]
  },
  {
   "cell_type": "markdown",
   "id": "6e76ee6d",
   "metadata": {},
   "source": [
    "## Training the Model"
   ]
  },
  {
   "cell_type": "markdown",
   "id": "4c217d70",
   "metadata": {},
   "source": [
    "Now that we have split the data into test and training sets, we can fit the data into a LinearRegression model:"
   ]
  },
  {
   "cell_type": "code",
   "execution_count": 65,
   "id": "d35be404",
   "metadata": {},
   "outputs": [
    {
     "name": "stdout",
     "output_type": "stream",
     "text": [
      "Training Completed\n"
     ]
    }
   ],
   "source": [
    "from sklearn.linear_model import LinearRegression\n",
    "regressor = LinearRegression()\n",
    "regressor.fit(x_train,y_train)\n",
    "print(\"Training Completed\")"
   ]
  },
  {
   "cell_type": "markdown",
   "id": "e24fad43",
   "metadata": {},
   "source": [
    "Now we can plot the regression line along with our data points to have an idea about how close the model is to actual data."
   ]
  },
  {
   "cell_type": "code",
   "execution_count": 66,
   "id": "3b7ee023",
   "metadata": {},
   "outputs": [
    {
     "data": {
      "image/png": "[encoded data removed]",
      "text/plain": [
       "<Figure size 640x480 with 1 Axes>"
      ]
     },
     "metadata": {},
     "output_type": "display_data"
    }
   ],
   "source": [
    "# Plotting the regression line\n",
    "line = regressor.coef_*(data[[\"Hours\"]])+regressor.intercept_  # y=m*x+c\n",
    "\n",
    "#Plotting the data\n",
    "plt.scatter(data[[\"Hours\"]],data[[\"Scores\"]], marker=\"*\", color=\"red\")\n",
    "plt.plot(data[[\"Hours\"]], line)\n",
    "plt.show()"
   ]
  },
  {
   "cell_type": "markdown",
   "id": "8f9c8baf",
   "metadata": {},
   "source": [
    "### Now we have to evaluate the accuracy of our model"
   ]
  },
  {
   "cell_type": "markdown",
   "id": "98bf612d",
   "metadata": {},
   "source": [
    "Using the regression model, we will predict the values in y_test based on the x_test values. After that we will display them along with the actual values in y_test."
   ]
  },
  {
   "cell_type": "code",
   "execution_count": 101,
   "id": "9a255dad",
   "metadata": {},
   "outputs": [
    {
     "data": {
      "text/html": [
       "<div>\n",
       "<style scoped>\n",
       "    .dataframe tbody tr th:only-of-type {\n",
       "        vertical-align: middle;\n",
       "    }\n",
       "\n",
       "    .dataframe tbody tr th {\n",
       "        vertical-align: top;\n",
       "    }\n",
       "\n",
       "    .dataframe thead th {\n",
       "        text-align: right;\n",
       "    }\n",
       "</style>\n",
       "<table border=\"1\" class=\"dataframe\">\n",
       "  <thead>\n",
       "    <tr style=\"text-align: right;\">\n",
       "      <th></th>\n",
       "      <th>Actual</th>\n",
       "      <th>Predicted</th>\n",
       "    </tr>\n",
       "  </thead>\n",
       "  <tbody>\n",
       "    <tr>\n",
       "      <th>0</th>\n",
       "      <td>35</td>\n",
       "      <td>40.027878</td>\n",
       "    </tr>\n",
       "    <tr>\n",
       "      <th>1</th>\n",
       "      <td>95</td>\n",
       "      <td>88.564665</td>\n",
       "    </tr>\n",
       "    <tr>\n",
       "      <th>2</th>\n",
       "      <td>20</td>\n",
       "      <td>18.138739</td>\n",
       "    </tr>\n",
       "    <tr>\n",
       "      <th>3</th>\n",
       "      <td>27</td>\n",
       "      <td>34.317668</td>\n",
       "    </tr>\n",
       "    <tr>\n",
       "      <th>4</th>\n",
       "      <td>62</td>\n",
       "      <td>60.013614</td>\n",
       "    </tr>\n",
       "  </tbody>\n",
       "</table>\n",
       "</div>"
      ],
      "text/plain": [
       "   Actual  Predicted\n",
       "0      35  40.027878\n",
       "1      95  88.564665\n",
       "2      20  18.138739\n",
       "3      27  34.317668\n",
       "4      62  60.013614"
      ]
     },
     "execution_count": 101,
     "metadata": {},
     "output_type": "execute_result"
    }
   ],
   "source": [
    "y_pred = regressor.predict(x_test) # Predicting the scores\n",
    "\n",
    "# flatten the arrays to make them one-dimensional\n",
    "y_test = y_test_np.flatten()\n",
    "y_pred = y_pred.flatten()\n",
    "\n",
    "# Comparing Actual and Predicted\n",
    "\n",
    "A = pd.DataFrame({'Actual': y_test, 'Predicted': y_pred})\n",
    "A"
   ]
  },
  {
   "cell_type": "markdown",
   "id": "107a8fb4",
   "metadata": {},
   "source": [
    "Now we are going to calculate the accuracy of our model\n"
   ]
  },
  {
   "cell_type": "code",
   "execution_count": 102,
   "id": "2993dbd6",
   "metadata": {},
   "outputs": [
    {
     "data": {
      "text/plain": [
       "0.9663969197414469"
      ]
     },
     "execution_count": 102,
     "metadata": {},
     "output_type": "execute_result"
    }
   ],
   "source": [
    "score = regressor.score(x_test, y_test)\n",
    "score"
   ]
  },
  {
   "cell_type": "markdown",
   "id": "13928327",
   "metadata": {},
   "source": [
    "The score value indicates that our model has an accuracy of 96.63% which is pretty good. So we are all set to predict new values using our model.\n"
   ]
  },
  {
   "cell_type": "markdown",
   "id": "d92698f4",
   "metadata": {},
   "source": [
    "### That brings us to our main task -  Predict the value of a student who studies for 9.25hrs/day"
   ]
  },
  {
   "cell_type": "code",
   "execution_count": 115,
   "id": "7a9412a0",
   "metadata": {},
   "outputs": [
    {
     "name": "stdout",
     "output_type": "stream",
     "text": [
      "Score Predicted: [[91.89562062]]\n"
     ]
    },
    {
     "name": "stderr",
     "output_type": "stream",
     "text": [
      "/home/sreelekshman/anaconda3/lib/python3.9/site-packages/sklearn/base.py:450: UserWarning: X does not have valid feature names, but LinearRegression was fitted with feature names\n",
      "  warnings.warn(\n"
     ]
    }
   ],
   "source": [
    "# Predicting the value of score with hour = 9.25\n",
    "new_hour = 9.25\n",
    "value=regressor.predict([[new_hour]])\n",
    "\n",
    "print(\"Score Predicted:\",value)"
   ]
  },
  {
   "cell_type": "markdown",
   "id": "065eab89",
   "metadata": {},
   "source": [
    "We can visualize the new data point along with the other data to get an idea about how well the LinearRegression model worked."
   ]
  },
  {
   "cell_type": "code",
   "execution_count": 117,
   "id": "d03e3f7a",
   "metadata": {},
   "outputs": [
    {
     "data": {
      "image/png": "[encoded data removed]",
      "text/plain": [
       "<Figure size 640x480 with 1 Axes>"
      ]
     },
     "metadata": {},
     "output_type": "display_data"
    }
   ],
   "source": [
    "plt.scatter(data[[\"Hours\"]],data[[\"Scores\"]], marker=\".\", color=\"blue\")\n",
    "plt.plot(new_hour,value, marker=\"o\", color=\"red\")\n",
    "plt.show()\n",
    "\n",
    "#Red dot is the predicted Data Point"
   ]
  },
  {
   "cell_type": "code",
   "execution_count": null,
   "id": "6d945012",
   "metadata": {},
   "outputs": [],
   "source": []
  }
 ],
 "metadata": {
  "kernelspec": {
   "display_name": "Python 3 (ipykernel)",
   "language": "python",
   "name": "python3"
  },
  "language_info": {
   "codemirror_mode": {
    "name": "ipython",
    "version": 3
   },
   "file_extension": ".py",
   "mimetype": "text/x-python",
   "name": "python",
   "nbconvert_exporter": "python",
   "pygments_lexer": "ipython3",
   "version": "3.9.13"
  }
 },
 "nbformat": 4,
 "nbformat_minor": 5
}
